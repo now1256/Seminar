{
 "cells": [
  {
   "cell_type": "code",
   "execution_count": 1,
   "id": "0680a0e2-d4f6-4609-bab4-ef2c61211762",
   "metadata": {},
   "outputs": [],
   "source": [
    "import torch \n",
    "import numpy as np\n",
    "import math\n",
    "import pandas as pd \n",
    "import torch.nn as nn\n",
    "import torch.utils.data as data\n",
    "import torch.nn.functional as F"
   ]
  },
  {
   "cell_type": "code",
   "execution_count": 2,
   "id": "5bc87b1f-f737-4c07-a8ab-37ad9b3f8d93",
   "metadata": {},
   "outputs": [
    {
     "name": "stderr",
     "output_type": "stream",
     "text": [
      "C:\\Users\\db\\AppData\\Local\\Temp\\ipykernel_26104\\1374857115.py:2: DtypeWarning: Columns (6) have mixed types. Specify dtype option on import or set low_memory=False.\n",
      "  train= pd.read_csv(DATASET_DIR+ \"/NCF 졸업생 데이터 (1부).csv\", sep='|')[['sex','ccd','bzc_cd','grup_cd']]\n",
      "C:\\Users\\db\\AppData\\Local\\Temp\\ipykernel_26104\\1374857115.py:3: DtypeWarning: Columns (6) have mixed types. Specify dtype option on import or set low_memory=False.\n",
      "  test = pd.read_csv(DATASET_DIR+ \"/NCF 졸업생 데이터 (2부).csv\", sep='|')[['sex','ccd','bzc_cd','grup_cd']]\n"
     ]
    }
   ],
   "source": [
    "DATASET_DIR = \"C:/Users/db/Desktop/기업-수강ncf/NCF 졸업생 데이터\"\n",
    "train= pd.read_csv(DATASET_DIR+ \"/NCF 졸업생 데이터 (1부).csv\", sep='|')[['sex','ccd','bzc_cd','grup_cd']]\n",
    "test = pd.read_csv(DATASET_DIR+ \"/NCF 졸업생 데이터 (2부).csv\", sep='|')[['sex','ccd','bzc_cd','grup_cd']]"
   ]
  },
  {
   "cell_type": "code",
   "execution_count": 3,
   "id": "4ef8a1e9-991e-464c-83c8-859c8165853b",
   "metadata": {},
   "outputs": [],
   "source": [
    "rating_list = np.concatenate([train.values, test.values])\n",
    "n_rating_list = []\n",
    "for a in rating_list:\n",
    "    sex,ccd,bzc_cd,grup_cd = a\n",
    "    n_rating_list.append([sex,ccd,bzc_cd,grup_cd])\n",
    "rating_list = np.array(n_rating_list)"
   ]
  },
  {
   "cell_type": "code",
   "execution_count": 4,
   "id": "e5325e47-b72e-4271-8df1-4f2b16b8a555",
   "metadata": {},
   "outputs": [
    {
     "name": "stdout",
     "output_type": "stream",
     "text": [
      "num_ccd:314 num_bzc:925 num_item:16695\n"
     ]
    }
   ],
   "source": [
    "# 모든 유저와 모든 item을 담음\n",
    "unq_ccd, unq_bzccd,unq_grup_cd = [np.unique(rating_list[:, n+1]) for n in range(3)]\n",
    "# user와 item의 개수 넣음\n",
    "num_ccd, num_bzc, num_grup = len(unq_ccd), len(unq_bzccd),len(unq_grup_cd)\n",
    "print('num_ccd:{} num_bzc:{} num_item:{}'.format(num_ccd, num_bzc, num_grup))\n",
    "train_list = np.array(train)\n",
    "test_list = np.array(test)\n",
    "ccd2idx, bzcidx ,grupidx = {}, {},{}\n",
    "for i, j in enumerate(unq_ccd):\n",
    "     ccd2idx[j] = i\n",
    "for i, j in enumerate(unq_bzccd):\n",
    "     bzcidx[j] = i\n",
    "for i, j in enumerate(unq_grup_cd):\n",
    "     grupidx[j] = i    \n",
    "from sklearn.model_selection import train_test_split\n",
    "train_list = [[int(li[0])-1,ccd2idx[str(li[1])], bzcidx[str(li[2])],grupidx[str(li[3])]] for li in rating_list]\n",
    "# x_train, x_test = train_test_split(train_list, test_size=0.3, shuffle=True, random_state=34)\n",
    "train_list = pd.DataFrame(train_list, columns = ['sex', 'ccd','bzc','item'])\n",
    "x_train, x_test = train_test_split(train_list, test_size=0.3, shuffle=True, stratify =train_list[['sex', 'ccd','bzc']], random_state=34)"
   ]
  },
  {
   "cell_type": "code",
   "execution_count": 5,
   "id": "394675cc-8a16-4780-bbb3-19ac08817b6a",
   "metadata": {},
   "outputs": [],
   "source": [
    "class DfData(torch.utils.data.Dataset):\n",
    "    def __init__(self,features,num_sex,num_ccd,num_bzc,num_grup,num_ng=0,train_mat=None,is_training=None):\n",
    "        super(DfData,self).__init__()\n",
    "        # self.features_ps = torch.Tensor(features).int()\n",
    "        self.features_ps = features\n",
    "        self.num_sex = num_sex\n",
    "        self.num_bzc = num_bzc\n",
    "        self.num_ccd = num_ccd\n",
    "        self.num_grup = num_grup\n",
    "        self.num_ng = num_ng\n",
    "        self.labels = [0] * len(features)\n",
    "        self.train_mat = train_mat\n",
    "        self.is_training = is_training\n",
    "        \n",
    "        # negative sampling \n",
    "    def set_ng_sample(self):\n",
    "        assert self.is_training, \"no need to sampling when testing\"\n",
    "         \n",
    "        self.features_ng = []\n",
    "        for x in self.features_ps:\n",
    "            # sex\n",
    "            for _ in range(self.num_ng):\n",
    "                s = np.random.randint(self.num_sex)\n",
    "                u = np.random.randint(self.num_ccd)\n",
    "                q = np.random.randint(self.num_bzc)\n",
    "                j = np.random.randint(self.num_grup)\n",
    "                # train set에 있는 경우 다시 뽑기\n",
    "                self.features_ng.append([s,u,q,j])\n",
    "\n",
    "        labels_ps = [1] * len(self.features_ps)\n",
    "        labels_ng = [0] * len(self.features_ng)\n",
    "        \n",
    "        self.features_fill = torch.Tensor(self.features_ps + self.features_ng).to(torch.int64)\n",
    "        self.labels_fill= torch.Tensor(labels_ps + labels_ng)\n",
    "        \n",
    "\n",
    "    def __len__(self):\n",
    "        return (self.num_ng+1) * len(self.labels)\n",
    "        \n",
    "    def __getitem__(self,idx):\n",
    "        features = self.features_fill if self.is_training else torch.Tensor(self.features_ps).to(torch.int64)\n",
    "        labels = self.labels_fill if self.is_training else torch.Tensor(self.labels)\n",
    "        \n",
    "        user = features[idx]\n",
    "        label = labels[idx]\n",
    "        return user, label"
   ]
  },
  {
   "cell_type": "code",
   "execution_count": 6,
   "id": "82e49ae6-6c31-40fc-a27d-a2e7f13f7395",
   "metadata": {},
   "outputs": [],
   "source": [
    "# x_train = x_train.values.tolist()\n",
    "# x_test = x_test.values.tolist()\n",
    "num_sex = 2\n",
    "train_dataset = DfData(x_train, num_sex,num_ccd,num_bzc, num_grup, num_ng=1, is_training=True)\n",
    "train_loader = data.DataLoader(train_dataset, batch_size = 128, shuffle=True, num_workers=0)\n",
    "test_dataset = DfData(x_test, num_sex,num_ccd,num_bzc, num_grup, num_ng=1, is_training=True)\n",
    "test_loader = data.DataLoader(test_dataset, batch_size = 128, shuffle=True, num_workers=0)"
   ]
  },
  {
   "cell_type": "code",
   "execution_count": 25,
   "id": "2137b4d2-2597-4b1f-a00a-302f82374bf8",
   "metadata": {},
   "outputs": [
    {
     "data": {
      "image/png": "[encoded data removed]",
      "text/plain": [
       "<Figure size 800x800 with 1 Axes>"
      ]
     },
     "metadata": {},
     "output_type": "display_data"
    }
   ],
   "source": [
    "import torch\n",
    "import numpy as np\n",
    "from sklearn.metrics import roc_curve, auc\n",
    "import matplotlib.pyplot as plt\n",
    "\n",
    "# Initialize empty lists to store predictions and labels\n",
    "all_predictions = []\n",
    "all_labels = []\n",
    "\n",
    "# Disable gradient computation\n",
    "with torch.no_grad():\n",
    "    test_loader.dataset.set_ng_sample()\n",
    "\n",
    "    for user, label in test_loader:\n",
    "        user = user.cuda()\n",
    "        label = label.float().cuda()\n",
    "        pred = net(user)\n",
    "\n",
    "        # Move tensors to CPU before converting to NumPy arrays\n",
    "        pred_np = pred.cpu().numpy()\n",
    "        label_np = label.cpu().numpy()\n",
    "\n",
    "        # Append predictions and labels for the current batch to the lists\n",
    "        all_predictions.extend(pred_np)\n",
    "        all_labels.extend(label_np)\n",
    "\n",
    "# Convert lists to NumPy arrays\n",
    "all_predictions = np.array(all_predictions)\n",
    "all_labels = np.array(all_labels)\n",
    "\n",
    "# Compute ROC curve and AUC for the entire dataset\n",
    "fpr, tpr, thresholds = roc_curve(all_labels, all_predictions)\n",
    "roc_auc = auc(fpr, tpr)\n",
    "\n",
    "# Plot ROC curve\n",
    "plt.figure(figsize=(8, 8))\n",
    "plt.plot(fpr, tpr, color='darkorange', lw=2, label=f'AUC = {roc_auc:.2f}')\n",
    "plt.plot([0, 1], [0, 1], color='navy', lw=2, linestyle='--')\n",
    "plt.xlabel('False Positive Rate')\n",
    "plt.ylabel('True Positive Rate')\n",
    "plt.title('Receiver Operating Characteristic (ROC) Curve')\n",
    "plt.legend(loc='lower right')\n",
    "plt.show()"
   ]
  },
  {
   "cell_type": "code",
   "execution_count": 26,
   "id": "2edd7cea-6d3d-4751-a5b8-da338273902d",
   "metadata": {},
   "outputs": [
    {
     "data": {
      "text/plain": [
       "0.9990558698192618"
      ]
     },
     "execution_count": 26,
     "metadata": {},
     "output_type": "execute_result"
    }
   ],
   "source": [
    "roc_auc"
   ]
  },
  {
   "cell_type": "code",
   "execution_count": 7,
   "id": "6c43ce9e-4be7-4e73-b822-8989db5b1c8d",
   "metadata": {},
   "outputs": [
    {
     "name": "stdout",
     "output_type": "stream",
     "text": [
      "tensor([[    1,   184,   755,  6154],\n",
      "        [    0,    73,   916,   788],\n",
      "        [    1,   157,   267,  6869],\n",
      "        [    1,   310,   222, 16081],\n",
      "        [    1,   148,   842,  3395],\n",
      "        [    1,   100,   640, 13849],\n",
      "        [    1,   122,   799,  2584],\n",
      "        [    1,   293,   913,  9062],\n",
      "        [    1,   150,   842,   240],\n",
      "        [    0,    19,   799,  6898],\n",
      "        [    0,    79,   226, 12739],\n",
      "        [    0,   109,   429, 14151],\n",
      "        [    1,   189,   323,   520],\n",
      "        [    0,   171,   615,  4020],\n",
      "        [    0,   103,   337,  4437],\n",
      "        [    0,   215,   558,  7946],\n",
      "        [    1,   120,   536,  6909],\n",
      "        [    1,    91,   684,    41],\n",
      "        [    0,   181,   762, 12929],\n",
      "        [    0,    41,   759,  4593],\n",
      "        [    0,   284,   232,   217],\n",
      "        [    0,   304,   757,  7236],\n",
      "        [    1,    48,   600, 11897],\n",
      "        [    0,    28,   671,  1380],\n",
      "        [    1,   228,    19, 13236],\n",
      "        [    0,   292,   212, 16520],\n",
      "        [    0,   149,   663,  3597],\n",
      "        [    0,   148,   214, 14727],\n",
      "        [    0,   144,   893,  6908],\n",
      "        [    0,    29,   428,   373],\n",
      "        [    0,   131,   825,  3015],\n",
      "        [    0,   160,   279, 16632],\n",
      "        [    0,    51,   524,  8679],\n",
      "        [    0,   187,   849,   918],\n",
      "        [    0,   227,    51, 15506],\n",
      "        [    0,   224,   814,   433],\n",
      "        [    1,   276,   839, 10231],\n",
      "        [    0,   213,   360, 15311],\n",
      "        [    0,   122,   689,  2559],\n",
      "        [    1,   168,   283, 13032],\n",
      "        [    1,    22,   594,  6940],\n",
      "        [    0,   187,   401,  9225],\n",
      "        [    0,   302,   475,  6923],\n",
      "        [    0,   190,   852, 12088],\n",
      "        [    0,    70,   270,   328],\n",
      "        [    0,    40,   410,    76],\n",
      "        [    0,     4,   684,  8326],\n",
      "        [    0,   296,   881,  7165],\n",
      "        [    0,    42,   603, 12066],\n",
      "        [    0,   151,   613, 11342],\n",
      "        [    1,    44,   806,  1538],\n",
      "        [    1,   177,   648, 11092],\n",
      "        [    1,   155,   101,  6771],\n",
      "        [    1,    91,   528,  5595],\n",
      "        [    1,   261,   505, 10394],\n",
      "        [    1,   172,   476,  6221],\n",
      "        [    1,   202,    35,   444],\n",
      "        [    0,    25,   210, 16506],\n",
      "        [    0,   162,   799,     9],\n",
      "        [    0,   190,   852, 12102],\n",
      "        [    1,   197,   787,  5144],\n",
      "        [    1,   299,    18,  4932],\n",
      "        [    0,    23,   354,     2],\n",
      "        [    1,   212,   818, 14592],\n",
      "        [    1,   126,   919,  7539],\n",
      "        [    0,    61,   414, 13162],\n",
      "        [    0,   272,   589, 10442],\n",
      "        [    0,    22,   646,  8982],\n",
      "        [    0,   240,   210,   441],\n",
      "        [    1,   214,   599,  3560],\n",
      "        [    1,   102,   725,  9339],\n",
      "        [    1,    30,   759,  3867],\n",
      "        [    0,     6,   259,   934],\n",
      "        [    0,    47,   753,  8935],\n",
      "        [    1,     2,   874,   905],\n",
      "        [    0,   159,   349,    23],\n",
      "        [    1,   184,   755,  6138],\n",
      "        [    0,   251,   684,  9605],\n",
      "        [    0,   239,   106,  2635],\n",
      "        [    1,     9,   613,  8086],\n",
      "        [    0,    81,   260,  1904],\n",
      "        [    0,   105,   790, 16636],\n",
      "        [    1,    75,   105,  3123],\n",
      "        [    0,   155,   469, 15145],\n",
      "        [    1,   267,   623,  4197],\n",
      "        [    1,    49,   753,   425],\n",
      "        [    1,   221,   852,  4744],\n",
      "        [    0,    18,   907,  8462],\n",
      "        [    0,   168,   684, 12981],\n",
      "        [    1,   102,    72,  2141],\n",
      "        [    1,    16,   284,   124],\n",
      "        [    0,   298,   483,  7104],\n",
      "        [    0,    81,    66, 13460],\n",
      "        [    1,   262,   783,  7521],\n",
      "        [    0,   144,   295, 11782],\n",
      "        [    1,    92,   739,  9157],\n",
      "        [    0,   168,   814, 13026],\n",
      "        [    1,   202,   657,  8098],\n",
      "        [    0,   139,   852, 12137],\n",
      "        [    1,    31,   648,  1016],\n",
      "        [    0,     0,   799,   794],\n",
      "        [    0,   257,   684,  2920],\n",
      "        [    0,    44,   143,   702],\n",
      "        [    0,    82,   644,   238],\n",
      "        [    1,    10,   649,   327],\n",
      "        [    1,    89,   689,  1540],\n",
      "        [    0,    56,   367,  4155],\n",
      "        [    0,    70,   799,  2513],\n",
      "        [    0,   224,   529,   979],\n",
      "        [    0,    50,   296,  1496],\n",
      "        [    0,   133,   405,  2688],\n",
      "        [    0,   177,   732,  2993],\n",
      "        [    1,    71,   282,  1482],\n",
      "        [    0,   151,   349, 11328],\n",
      "        [    0,   153,   537,  3307],\n",
      "        [    1,   167,   226,  5896],\n",
      "        [    0,    81,   283, 13356],\n",
      "        [    1,   257,   847,  8225],\n",
      "        [    0,   190,   489,  3949],\n",
      "        [    0,    11,   540,   622],\n",
      "        [    1,   261,   531,  9006],\n",
      "        [    1,   109,    17,   577],\n",
      "        [    1,   133,   824, 11135],\n",
      "        [    0,    37,   331,     8],\n",
      "        [    1,    20,   485,  8387],\n",
      "        [    0,     9,   784,  8096],\n",
      "        [    1,    29,   841,  8699],\n",
      "        [    0,   178,   848,  9544]])\n",
      "tensor([1., 0., 0., 0., 1., 0., 1., 0., 1., 1., 0., 0., 0., 0., 0., 0., 0., 1.,\n",
      "        1., 0., 1., 1., 0., 1., 0., 0., 1., 0., 0., 1., 1., 0., 1., 0., 0., 1.,\n",
      "        1., 0., 1., 1., 0., 1., 0., 1., 1., 1., 1., 1., 0., 1., 1., 0., 0., 0.,\n",
      "        0., 0., 1., 0., 1., 1., 1., 0., 1., 0., 0., 0., 1., 0., 0., 0., 1., 0.,\n",
      "        1., 1., 1., 1., 1., 1., 0., 1., 1., 0., 0., 0., 1., 1., 1., 1., 1., 0.,\n",
      "        0., 1., 1., 0., 0., 0., 1., 1., 1., 1., 1., 0., 1., 1., 1., 0., 0., 1.,\n",
      "        1., 1., 1., 0., 0., 1., 1., 1., 1., 0., 1., 1., 0., 1., 1., 1., 1., 1.,\n",
      "        1., 0.])\n"
     ]
    }
   ],
   "source": [
    "train_dataset.set_ng_sample()\n",
    "for a,b in train_loader:\n",
    "    print(a)\n",
    "    print(b)\n",
    "    break"
   ]
  },
  {
   "cell_type": "code",
   "execution_count": 7,
   "id": "67e0ce21-b9fb-40c4-9550-6d957627c66b",
   "metadata": {},
   "outputs": [],
   "source": [
    "class FeaturesEmbedding(torch.nn.Module):\n",
    "\n",
    "    def __init__(self, field_dims, embed_dim):\n",
    "        super().__init__()\n",
    "        self.embedding = torch.nn.Embedding(sum(field_dims), embed_dim)\n",
    "        self.offsets = np.array((0, *np.cumsum(field_dims)[:-1]), dtype=np.int64())\n",
    "        torch.nn.init.xavier_uniform_(self.embedding.weight.data)\n",
    "\n",
    "    def forward(self, x):\n",
    "        \"\"\"\n",
    "        :param x: Long tensor of size ``(batch_size, num_fields)``\n",
    "        \"\"\"\n",
    "        x = x + x.new_tensor(self.offsets).unsqueeze(0)\n",
    "        return self.embedding(x)"
   ]
  },
  {
   "cell_type": "code",
   "execution_count": 8,
   "id": "c46c1bff-14a2-4669-89ea-9f847ad93b81",
   "metadata": {},
   "outputs": [],
   "source": [
    "class FeaturesLinear(torch.nn.Module):\n",
    "\n",
    "    def __init__(self, field_dims, output_dim=1):\n",
    "        super().__init__()\n",
    "        self.fc = torch.nn.Embedding(sum(field_dims), output_dim)\n",
    "        self.bias = torch.nn.Parameter(torch.zeros((output_dim,)))\n",
    "        self.offsets = np.array((0, *np.cumsum(field_dims)[:-1]), dtype=np.int64())\n",
    "    def forward(self, x):\n",
    "        \"\"\"\n",
    "        :param x: Long tensor of size ``(batch_size, num_fields)``\n",
    "        \"\"\"\n",
    "        x = x + x.new_tensor(self.offsets).unsqueeze(0)\n",
    "        return torch.sum(self.fc(x), dim=1) + self.bias"
   ]
  },
  {
   "cell_type": "code",
   "execution_count": 9,
   "id": "cdfae1df-37ab-48b9-816c-ad5fa3e25bbb",
   "metadata": {},
   "outputs": [],
   "source": [
    "class MultiLayerPerceptron(torch.nn.Module):\n",
    "\n",
    "    def __init__(self, input_dim, embed_dims, dropout, output_layer=True):\n",
    "        super().__init__()\n",
    "        layers = list()\n",
    "        for embed_dim in embed_dims:\n",
    "            layers.append(torch.nn.Linear(input_dim, embed_dim))\n",
    "            layers.append(torch.nn.BatchNorm1d(embed_dim))\n",
    "            layers.append(torch.nn.ReLU())\n",
    "            layers.append(torch.nn.Dropout(p=dropout))\n",
    "            input_dim = embed_dim\n",
    "        if output_layer:\n",
    "            layers.append(torch.nn.Linear(input_dim, 1))\n",
    "        self.mlp = torch.nn.Sequential(*layers)\n",
    "\n",
    "    def forward(self, x):\n",
    "        \"\"\"\n",
    "        :param x: Float tensor of size ``(batch_size, embed_dim)``\n",
    "        \"\"\"\n",
    "        return self.mlp(x)"
   ]
  },
  {
   "cell_type": "code",
   "execution_count": 10,
   "id": "ef2b3f76-1c6d-4795-89ae-523c06dafdde",
   "metadata": {},
   "outputs": [],
   "source": [
    "class LNN(torch.nn.Module):\n",
    "    \"\"\"\n",
    "    A pytorch implementation of LNN layer\n",
    "    Input shape\n",
    "        - A 3D tensor with shape: ``(batch_size,field_size,embedding_size)``.\n",
    "    Output shape\n",
    "        - 2D tensor with shape:``(batch_size,LNN_dim*embedding_size)``.\n",
    "    Arguments\n",
    "        - **in_features** : Embedding of feature.\n",
    "        - **num_fields**: int.The field size of feature.\n",
    "        - **LNN_dim**: int.The number of Logarithmic neuron.\n",
    "        - **bias**: bool.Whether or not use bias in LNN.\n",
    "    \"\"\"\n",
    "    def __init__(self, num_fields, embed_dim, LNN_dim, bias=False):\n",
    "        super(LNN, self).__init__()\n",
    "        self.num_fields = num_fields\n",
    "        self.embed_dim = embed_dim\n",
    "        self.LNN_dim = LNN_dim\n",
    "        self.lnn_output_dim = LNN_dim * embed_dim\n",
    "        self.weight = torch.nn.Parameter(torch.Tensor(LNN_dim, num_fields))\n",
    "        if bias:\n",
    "            self.bias = torch.nn.Parameter(torch.Tensor(LNN_dim, embed_dim))\n",
    "        else:\n",
    "            self.register_parameter('bias', None)\n",
    "        self.reset_parameters()\n",
    "    \n",
    "    def reset_parameters(self):\n",
    "        stdv = 1. / math.sqrt(self.weight.size(1))\n",
    "        self.weight.data.uniform_(-stdv, stdv)\n",
    "        if self.bias is not None:\n",
    "            self.bias.data.uniform_(-stdv, stdv)\n",
    "\n",
    "    def forward(self, x):\n",
    "        \"\"\"\n",
    "        :param x: Long tensor of size ``(batch_size, num_fields, embedding_size)``\n",
    "        \"\"\"\n",
    "        embed_x_abs = torch.abs(x) # Computes the element-wise absolute value of the given input tensor.\n",
    "        embed_x_afn = torch.add(embed_x_abs, 1e-7)\n",
    "        # Logarithmic Transformation\n",
    "        embed_x_log = torch.log1p(embed_x_afn) # torch.log1p and torch.expm1\n",
    "        lnn_out = torch.matmul(self.weight, embed_x_log)\n",
    "        if self.bias is not None:\n",
    "            lnn_out += self.bias\n",
    "        lnn_exp = torch.expm1(lnn_out)\n",
    "        output = F.relu(lnn_exp).contiguous().view(-1, self.lnn_output_dim)\n",
    "        return output\n"
   ]
  },
  {
   "cell_type": "code",
   "execution_count": 11,
   "id": "fb2953ec-1e89-4512-8ee8-757f217a8509",
   "metadata": {},
   "outputs": [],
   "source": [
    "class AdaptiveFactorizationNetwork(torch.nn.Module):\n",
    "    \"\"\"\n",
    "    A pytorch implementation of AFN.\n",
    "\n",
    "    Reference:\n",
    "        Cheng W, et al. Adaptive Factorization Network: Learning Adaptive-Order Feature Interactions, 2019.\n",
    "    \"\"\"\n",
    "    def __init__(self, field_dims, embed_dim, LNN_dim, mlp_dims, dropouts):\n",
    "        super().__init__()\n",
    "        self.num_fields = len(field_dims)\n",
    "        self.linear = FeaturesLinear(field_dims)    # Linear\n",
    "        self.embedding = FeaturesEmbedding(field_dims, embed_dim)   # Embedding\n",
    "        self.LNN_dim = LNN_dim\n",
    "        self.LNN_output_dim = self.LNN_dim * embed_dim\n",
    "        self.LNN = LNN(self.num_fields, embed_dim, LNN_dim)\n",
    "        self.mlp = MultiLayerPerceptron(self.LNN_output_dim, mlp_dims, dropouts[0])\n",
    "\n",
    "    def forward(self, x):\n",
    "        \"\"\"\n",
    "        :param x: Long tensor of size ``(batch_size, num_fields)``\n",
    "        \"\"\"\n",
    "        embed_x = self.embedding(x)\n",
    "        lnn_out = self.LNN(embed_x)\n",
    "        x = self.linear(x) + self.mlp(lnn_out)\n",
    "        return (x.squeeze(1))"
   ]
  },
  {
   "cell_type": "code",
   "execution_count": 12,
   "id": "6bd6be68-8074-44de-a9b9-25eb9e76f75b",
   "metadata": {},
   "outputs": [],
   "source": [
    "sex = 2 \n",
    "field_dims = [sex, num_ccd,num_bzc,num_grup]\n",
    "embed_dim= 50\n",
    "LNN_dim = 1000\n",
    "mlp_dims = [50, 50] \n",
    "dropouts= (0, 0, 0)\n",
    "device = 'cuda:0'"
   ]
  },
  {
   "cell_type": "code",
   "execution_count": 13,
   "id": "b932ea18-4412-4234-b0e3-cb7bf1e43a59",
   "metadata": {},
   "outputs": [
    {
     "data": {
      "text/plain": [
       "[2, 314, 925, 16695]"
      ]
     },
     "execution_count": 13,
     "metadata": {},
     "output_type": "execute_result"
    }
   ],
   "source": [
    "field_dims"
   ]
  },
  {
   "cell_type": "code",
   "execution_count": 14,
   "id": "92f40544-76b3-4f01-93d2-c45c3d24dae3",
   "metadata": {},
   "outputs": [],
   "source": [
    "net = AdaptiveFactorizationNetwork(field_dims, embed_dim , LNN_dim, mlp_dims, dropouts)"
   ]
  },
  {
   "cell_type": "code",
   "execution_count": 15,
   "id": "79a71fc7-2479-4ace-96d2-5ceda4978502",
   "metadata": {},
   "outputs": [
    {
     "data": {
      "text/plain": [
       "AdaptiveFactorizationNetwork(\n",
       "  (linear): FeaturesLinear(\n",
       "    (fc): Embedding(17936, 1)\n",
       "  )\n",
       "  (embedding): FeaturesEmbedding(\n",
       "    (embedding): Embedding(17936, 50)\n",
       "  )\n",
       "  (LNN): LNN()\n",
       "  (mlp): MultiLayerPerceptron(\n",
       "    (mlp): Sequential(\n",
       "      (0): Linear(in_features=50000, out_features=50, bias=True)\n",
       "      (1): BatchNorm1d(50, eps=1e-05, momentum=0.1, affine=True, track_running_stats=True)\n",
       "      (2): ReLU()\n",
       "      (3): Dropout(p=0, inplace=False)\n",
       "      (4): Linear(in_features=50, out_features=50, bias=True)\n",
       "      (5): BatchNorm1d(50, eps=1e-05, momentum=0.1, affine=True, track_running_stats=True)\n",
       "      (6): ReLU()\n",
       "      (7): Dropout(p=0, inplace=False)\n",
       "      (8): Linear(in_features=50, out_features=1, bias=True)\n",
       "    )\n",
       "  )\n",
       ")"
      ]
     },
     "execution_count": 15,
     "metadata": {},
     "output_type": "execute_result"
    }
   ],
   "source": [
    "net.to(device)"
   ]
  },
  {
   "cell_type": "code",
   "execution_count": 16,
   "id": "846958e8-f87e-494b-96de-6aa487890944",
   "metadata": {},
   "outputs": [],
   "source": [
    "learning_rate = 0.005\n",
    "epochs = 50\n",
    "loss_function = nn.BCEWithLogitsLoss()\n",
    "optimizer = torch.optim.Adam(net.parameters(), lr=learning_rate)"
   ]
  },
  {
   "cell_type": "code",
   "execution_count": 18,
   "id": "e8d34962-372d-443f-8e21-1a2f587c4f40",
   "metadata": {},
   "outputs": [
    {
     "name": "stdout",
     "output_type": "stream",
     "text": [
      "Epoch: 0001 cost = 0.134577617\n",
      "Epoch: 0002 cost = 0.044902582\n",
      "Epoch: 0003 cost = 0.029850483\n",
      "Epoch: 0004 cost = 0.022861408\n",
      "Epoch: 0005 cost = 0.018879555\n",
      "Epoch: 0006 cost = 0.016405053\n",
      "Epoch: 0007 cost = 0.014906020\n",
      "Epoch: 0008 cost = 0.013746433\n",
      "Epoch: 0009 cost = 0.012833700\n",
      "Epoch: 0010 cost = 0.012204620\n",
      "Epoch: 0011 cost = 0.011775786\n",
      "Epoch: 0012 cost = 0.011523630\n",
      "Epoch: 0013 cost = 0.011058916\n",
      "Epoch: 0014 cost = 0.011200616\n",
      "Epoch: 0015 cost = 0.010706419\n",
      "Epoch: 0016 cost = 0.010570126\n",
      "Epoch: 0017 cost = 0.010395010\n",
      "Epoch: 0018 cost = 0.010248264\n",
      "Epoch: 0019 cost = 0.010208805\n",
      "Epoch: 0020 cost = 0.010285851\n",
      "Epoch: 0021 cost = 0.010150331\n",
      "Epoch: 0022 cost = 0.009729362\n",
      "Epoch: 0023 cost = 0.010112249\n",
      "Epoch: 0024 cost = 0.009723805\n",
      "Epoch: 0025 cost = 0.009883045\n",
      "Epoch: 0026 cost = 0.009656291\n",
      "Epoch: 0027 cost = 0.009790991\n",
      "Epoch: 0028 cost = 0.009520132\n",
      "Epoch: 0029 cost = 0.009890240\n",
      "Epoch: 0030 cost = 0.009744785\n",
      "Epoch: 0031 cost = 0.009505411\n",
      "Epoch: 0032 cost = 0.009535932\n",
      "Epoch: 0033 cost = 0.009722943\n",
      "Epoch: 0034 cost = 0.009211784\n",
      "Epoch: 0035 cost = 0.009559074\n",
      "Epoch: 0036 cost = 0.009254614\n",
      "Epoch: 0037 cost = 0.009073227\n",
      "Epoch: 0038 cost = 0.009597910\n",
      "Epoch: 0039 cost = 0.009816059\n",
      "Epoch: 0040 cost = 0.009252170\n",
      "Epoch: 0041 cost = 0.009331484\n",
      "Epoch: 0042 cost = 0.009661519\n",
      "Epoch: 0043 cost = 0.009912623\n",
      "Epoch: 0044 cost = 0.009537647\n",
      "Epoch: 0045 cost = 0.009288930\n",
      "Epoch: 0046 cost = 0.009159246\n",
      "Epoch: 0047 cost = 0.009521027\n",
      "Epoch: 0048 cost = 0.009002070\n",
      "Epoch: 0049 cost = 0.008962056\n",
      "Epoch: 0050 cost = 0.009385306\n"
     ]
    }
   ],
   "source": [
    "for ep in range(epochs):   \n",
    "    avg_cost = 0\n",
    "    train_loader.dataset.set_ng_sample()\n",
    "    for user, label in train_loader:\n",
    "        user = user.to(torch.int64).to(device)\n",
    "        label = label.to('cuda:0')\n",
    "        net.zero_grad()\n",
    "        pred = net(user)\n",
    "        loss = loss_function(pred, label)\n",
    "        loss.backward()\n",
    "        optimizer.step()\n",
    "        avg_cost += loss / len(train_loader)\n",
    "    net.eval()\n",
    "    # HR = metrics(net, test_loader, 10)    \n",
    "    # print(np.mean(HR))\n",
    "    print('Epoch:', '%04d' % (ep + 1), 'cost =', '{:.9f}'.format(avg_cost)) "
   ]
  },
  {
   "cell_type": "code",
   "execution_count": null,
   "id": "e65f0695-b93e-4940-b7c3-3bfab221908b",
   "metadata": {},
   "outputs": [],
   "source": [
    "# \"C:/Users/db/Desktop/AFN\""
   ]
  },
  {
   "cell_type": "code",
   "execution_count": 19,
   "id": "e0c41bcc-fc1d-4053-95e9-a6a1adca46d3",
   "metadata": {},
   "outputs": [],
   "source": [
    "# torch.save(net ,\"C:/Users/db/Desktop/AFN/AFN.pth\")"
   ]
  },
  {
   "cell_type": "code",
   "execution_count": 17,
   "id": "27ceaa2c-ad7f-422b-894c-945b5e59f4eb",
   "metadata": {},
   "outputs": [],
   "source": [
    "net = torch.load(\"C:/Users/db/Desktop/AFN/AFN.pth\")"
   ]
  },
  {
   "cell_type": "code",
   "execution_count": 18,
   "id": "8178b7fe-1b12-41b0-99af-745bc0cfb34f",
   "metadata": {},
   "outputs": [],
   "source": [
    "x_train = np.array(x_train)\n",
    "x_test = np.array(x_test)"
   ]
  },
  {
   "cell_type": "code",
   "execution_count": 19,
   "id": "4daddd09-2433-4c57-a611-37810fa5bd8c",
   "metadata": {},
   "outputs": [
    {
     "data": {
      "text/plain": [
       "array([[    0,   290,   649,  1946],\n",
       "       [    1,   143,   799, 11417],\n",
       "       [    0,    18,   410,  8453],\n",
       "       ...,\n",
       "       [    1,   196,   593,   504],\n",
       "       [    1,   201,   505,  3704],\n",
       "       [    1,   126,   727,  3236]], dtype=int64)"
      ]
     },
     "execution_count": 19,
     "metadata": {},
     "output_type": "execute_result"
    }
   ],
   "source": [
    "x_train"
   ]
  },
  {
   "cell_type": "code",
   "execution_count": 20,
   "id": "d836b0ae-bc07-43a1-bc43-898cc0054fb5",
   "metadata": {},
   "outputs": [],
   "source": [
    "train_dict = {}\n",
    "for item in x_train:\n",
    "    key = tuple(item[:3])  # 2, 91, 750을 튜플로 만듭니다.\n",
    "    value = item[3]  # 나머지 값은 딕셔너리의 값으로 사용합니다.\n",
    "    \n",
    "    if key in train_dict:\n",
    "        train_dict[key].append(value)\n",
    "    else:\n",
    "        train_dict[key] = [value]"
   ]
  },
  {
   "cell_type": "code",
   "execution_count": 21,
   "id": "51ff7794-1d2b-4871-9819-fb73cbcbd8e0",
   "metadata": {},
   "outputs": [],
   "source": [
    "result_dict = {}\n",
    "for item in x_test:\n",
    "    key = tuple(item[:3])  # 2, 91, 750을 튜플로 만듭니다.\n",
    "    value = item[3]  # 나머지 값은 딕셔너리의 값으로 사용합니다.\n",
    "    \n",
    "    if key in result_dict:\n",
    "        result_dict[key].append(value)\n",
    "    else:\n",
    "        result_dict[key] = [value]"
   ]
  },
  {
   "cell_type": "code",
   "execution_count": 22,
   "id": "769ba8c9-9d44-48b2-bf8f-e4ea89c62ee2",
   "metadata": {},
   "outputs": [
    {
     "name": "stdout",
     "output_type": "stream",
     "text": [
      "[618, 6994, 12453, 509, 14047, 8935, 8942, 8956, 1732, 368, 8987, 8947, 642, 7004, 8963, 8940, 8987, 1076, 11162, 1408, 575, 8953, 8963, 8987, 6998, 8942, 1743, 8966, 1033, 8951, 8946, 1023, 8965, 7004, 8958, 575, 8939, 1016, 1076, 1019, 373, 8961, 8987, 8221, 8987, 380, 6994, 8951, 368, 367, 1668, 374, 8987, 1008, 373, 368, 8949, 8224, 8205, 8934, 7004, 8964, 8966, 1668, 998]\n"
     ]
    }
   ],
   "source": [
    "keys_list = list(result_dict.keys())\n",
    "for a in keys_list:\n",
    "    print(result_dict[a])\n",
    "    break"
   ]
  },
  {
   "cell_type": "code",
   "execution_count": 23,
   "id": "03368f26-9670-4d8b-95cd-76d816017224",
   "metadata": {},
   "outputs": [],
   "source": [
    "# net = net.to('cpu')"
   ]
  },
  {
   "cell_type": "code",
   "execution_count": 24,
   "id": "72a7f54a-e6a0-4561-ad18-881387de7dbb",
   "metadata": {},
   "outputs": [
    {
     "name": "stderr",
     "output_type": "stream",
     "text": [
      "Calculating Precision: 100%|███████████████████████████████████████████████████████| 9600/9600 [19:16<00:00,  8.30it/s]\n"
     ]
    }
   ],
   "source": [
    "from tqdm import tqdm  # Import tqdm for the progress bar\n",
    "\n",
    "def precision_and_map(k_values):\n",
    "    precision_results = {k: [] for k in k_values}\n",
    "    map_results = {k: [] for k in k_values}\n",
    "    recall_results = {k: [] for k in k_values}\n",
    "    \n",
    "    for i in tqdm(keys_list, desc=\"Calculating Precision\", position=0, leave=True):\n",
    "        p = []\n",
    "        try:\n",
    "            b = result_dict[i]\n",
    "            c = train_dict[i]\n",
    "        except KeyError:\n",
    "            continue\n",
    "        \n",
    "        for j in range(num_grup):\n",
    "            p.append(list(i) + [j])  # Fix variable name from 'a' to 'i'\n",
    "        \n",
    "        p = torch.tensor(p).to(device)\n",
    "        pred = net(p).to(torch.int)  # Change to 'torch.int' for data type\n",
    "        values, sorted_indices = torch.sort(pred, descending=True)\n",
    "        \n",
    "        original_indices = [idx for idx in sorted_indices.tolist() if idx not in set(c)]\n",
    "        \n",
    "        for k in k_values:\n",
    "            exclusive_indices = original_indices[:k]  # Use the original indices here\n",
    "            # Precision 계산\n",
    "            intersection_count_k = len(set(b).intersection(set(exclusive_indices)))\n",
    "            precision_results[k].append(intersection_count_k / k)\n",
    "            # recall 계산 \n",
    "            recall_results[k].append(intersection_count_k / len(b))\n",
    "            # MAP 계산\n",
    "            precision_at_i = []\n",
    "            \n",
    "            for rank, idx in enumerate(exclusive_indices, start=1):\n",
    "                if idx in set(b):\n",
    "                    precision_at_i.append(sum([1 if r in set(b) else 0 for r in exclusive_indices[:rank]]) / rank)\n",
    "            \n",
    "            if precision_at_i:\n",
    "                map_results[k].append(sum(precision_at_i) / len(precision_at_i))\n",
    "            else:\n",
    "                map_results[k].append(0.0)\n",
    "    return precision_results, map_results, recall_results\n",
    "\n",
    "k_values = [10, 25, 50, 100]\n",
    "precision_results, map_results, recall_results = precision_and_map(k_values)\n",
    "\n",
    "# Access the results\n",
    "precision_result_10 = precision_results[10]\n",
    "precision_result_25 = precision_results[25]\n",
    "precision_result_50 = precision_results[50]\n",
    "precision_result_100 = precision_results[100]\n",
    "\n",
    "map_result_10 = map_results[10]\n",
    "map_result_25 = map_results[25]\n",
    "map_result_50 = map_results[50]\n",
    "map_result_100 = map_results[100]\n",
    "\n",
    "recall_result_10 = recall_results[10]\n",
    "recall_result_25 = recall_results[25]\n",
    "recall_result_50 = recall_results[50]\n",
    "recall_result_100 = recall_results[100]\n"
   ]
  },
  {
   "cell_type": "code",
   "execution_count": 25,
   "id": "4d913ed1-da06-4563-85a2-d38d7b33cd78",
   "metadata": {},
   "outputs": [
    {
     "name": "stdout",
     "output_type": "stream",
     "text": [
      "Precision@10 Mean: 0.19498958333333336\n",
      "Precision@25 Mean: 0.15333333333333332\n",
      "Precision@50 Mean: 0.11806041666666668\n",
      "Precision@100 Mean: 0.08549479166666668\n",
      "Recall@10 Mean: 0.10586781394813279\n",
      "Recall@25 Mean: 0.20882095196527953\n",
      "Recall@50 Mean: 0.3207973696801007\n",
      "Recall@100 Mean: 0.4629870994627279\n",
      "MAP@10 Mean: 0.35256190702554174\n",
      "MAP@25 Mean: 0.30434414683540534\n",
      "MAP@50 Mean: 0.2603356726181427\n",
      "MAP@100 Mean: 0.22110564303905975\n"
     ]
    }
   ],
   "source": [
    "precision_10_mean = np.mean(precision_result_10)\n",
    "precision_25_mean = np.mean(precision_result_25)\n",
    "precision_50_mean = np.mean(precision_result_50)\n",
    "precision_100_mean = np.mean(precision_result_100)\n",
    "\n",
    "recall_10_mean = np.mean(recall_result_10)\n",
    "recall_25_mean = np.mean(recall_result_25)\n",
    "recall_50_mean = np.mean(recall_result_50)\n",
    "recall_100_mean = np.mean(recall_result_100)\n",
    "\n",
    "map_10_mean = np.mean(map_result_10)\n",
    "map_25_mean = np.mean(map_result_25)\n",
    "map_50_mean = np.mean(map_result_50)\n",
    "map_100_mean = np.mean(map_result_100)\n",
    "\n",
    "# 평균 출력\n",
    "print(\"Precision@10 Mean:\", precision_10_mean)\n",
    "print(\"Precision@25 Mean:\", precision_25_mean)\n",
    "print(\"Precision@50 Mean:\", precision_50_mean)\n",
    "print(\"Precision@100 Mean:\", precision_100_mean)\n",
    "\n",
    "print(\"Recall@10 Mean:\", recall_10_mean)\n",
    "print(\"Recall@25 Mean:\", recall_25_mean)\n",
    "print(\"Recall@50 Mean:\", recall_50_mean)\n",
    "print(\"Recall@100 Mean:\", recall_100_mean)\n",
    "\n",
    "print(\"MAP@10 Mean:\", map_10_mean)\n",
    "print(\"MAP@25 Mean:\", map_25_mean)\n",
    "print(\"MAP@50 Mean:\", map_50_mean)\n",
    "print(\"MAP@100 Mean:\", map_100_mean)"
   ]
  },
  {
   "cell_type": "code",
   "execution_count": 36,
   "id": "d8bcadcd-4571-4952-a657-09e794dfd342",
   "metadata": {},
   "outputs": [
    {
     "name": "stdout",
     "output_type": "stream",
     "text": [
      "0.05500437436530852\n",
      "0.0807570326223322\n",
      "0.09881053102217997\n",
      "0.11457516236036744\n"
     ]
    }
   ],
   "source": [
    "print(map_10)\n",
    "print(map_25)\n",
    "print(map_50)\n",
    "print(map_100)"
   ]
  },
  {
   "cell_type": "code",
   "execution_count": 32,
   "id": "7ee9818a-4111-4542-973d-84486fc81afe",
   "metadata": {},
   "outputs": [],
   "source": [
    "from tqdm import tqdm  # Import tqdm for the progress bar\n",
    "\n",
    "def precision(k):\n",
    "    result = []\n",
    "    for i in tqdm(keys_list, desc=\"Calculating Precision\", position=0, leave=True):  # tqdm setup\n",
    "        p = []\n",
    "        try:\n",
    "            b = result_dict[i]\n",
    "            c = train_dict[i]\n",
    "        except KeyError:\n",
    "            continue\n",
    "        for j in range(num_grup):\n",
    "            p.append(list(i) + [j])  # Fix variable name from 'a' to 'i'\n",
    "        p = torch.tensor(p).to(device)\n",
    "        pred = net(p).to(torch.int)  # Change to 'torch.int' for data type\n",
    "        values, sorted_indices = torch.sort(pred, descending=True)\n",
    "        \n",
    "        exclusive_indices = [idx for idx in sorted_indices.tolist() if idx not in set(c)]\n",
    "        exclusive_indices = exclusive_indices[:k]\n",
    "        \n",
    "        intersection_count = len(set(b).intersection(set(exclusive_indices)))\n",
    "        result.append(intersection_count / k)\n",
    "    \n",
    "    return result"
   ]
  },
  {
   "cell_type": "code",
   "execution_count": 27,
   "id": "f947e6de-7374-4256-ae48-0591d5372d2a",
   "metadata": {},
   "outputs": [
    {
     "name": "stderr",
     "output_type": "stream",
     "text": [
      "Calculating Precision: 100%|███████████████████████████████████████████████████████| 9600/9600 [23:30<00:00,  6.80it/s]\n",
      "Calculating Precision: 100%|███████████████████████████████████████████████████████| 9600/9600 [19:02<00:00,  8.40it/s]\n",
      "Calculating Precision: 100%|███████████████████████████████████████████████████████| 9600/9600 [18:45<00:00,  8.53it/s]\n",
      "Calculating Precision: 100%|███████████████████████████████████████████████████████| 9600/9600 [17:35<00:00,  9.10it/s]\n"
     ]
    }
   ],
   "source": [
    "# Example usage:\n",
    "a_10 = precision(10)\n",
    "a_25 = precision(25)\n",
    "a_50 = precision(50)\n",
    "a_100 = precision(100)"
   ]
  },
  {
   "cell_type": "code",
   "execution_count": 28,
   "id": "cc2ab3fc-4a37-458e-a157-69905a1a2ab6",
   "metadata": {},
   "outputs": [
    {
     "name": "stdout",
     "output_type": "stream",
     "text": [
      "0.19498958333333336\n",
      "0.15333333333333332\n",
      "0.11806041666666668\n",
      "0.08549479166666668\n"
     ]
    }
   ],
   "source": [
    "print(np.array(a_10).mean())\n",
    "print(np.array(a_25).mean())\n",
    "print(np.array(a_50).mean())\n",
    "print(np.array(a_100).mean())"
   ]
  },
  {
   "cell_type": "code",
   "execution_count": 29,
   "id": "04541070-f4ab-479c-a731-66cda192389d",
   "metadata": {},
   "outputs": [],
   "source": [
    "from tqdm import tqdm  # Import tqdm for the progress bar\n",
    "\n",
    "def Recall(k):\n",
    "    result = []\n",
    "    for i in tqdm(keys_list, desc=\"Calculating Precision\", position=0, leave=True):  # tqdm setup\n",
    "        p = []\n",
    "        try:\n",
    "            b = result_dict[i]\n",
    "            c = train_dict[i]\n",
    "        except KeyError:\n",
    "            continue\n",
    "        for j in range(num_grup):\n",
    "            p.append(list(i) + [j])  # Fix variable name from 'a' to 'i'\n",
    "        \n",
    "        p = torch.tensor(p).to(device)\n",
    "        pred = net(p).to(torch.int)  # Change to 'torch.int' for data type\n",
    "        values, sorted_indices = torch.sort(pred, descending=True)\n",
    "        \n",
    "        exclusive_indices = [idx for idx in sorted_indices.tolist() if idx not in set(c)]\n",
    "        exclusive_indices = exclusive_indices[:k]\n",
    "        \n",
    "        intersection_count = len(set(b).intersection(set(exclusive_indices)))\n",
    "        result.append(intersection_count / len(set(b)))\n",
    "    \n",
    "    return result"
   ]
  },
  {
   "cell_type": "code",
   "execution_count": 30,
   "id": "2c3f5e5d-3796-4378-96d7-8effc6510651",
   "metadata": {},
   "outputs": [
    {
     "name": "stderr",
     "output_type": "stream",
     "text": [
      "Calculating Precision: 100%|███████████████████████████████████████████████████████| 9600/9600 [17:24<00:00,  9.19it/s]\n",
      "Calculating Precision: 100%|███████████████████████████████████████████████████████| 9600/9600 [15:32<00:00, 10.30it/s]\n",
      "Calculating Precision: 100%|███████████████████████████████████████████████████████| 9600/9600 [15:33<00:00, 10.29it/s]\n",
      "Calculating Precision: 100%|███████████████████████████████████████████████████████| 9600/9600 [15:33<00:00, 10.28it/s]\n"
     ]
    }
   ],
   "source": [
    "b_10 = Recall(10)\n",
    "b_25 = Recall(25)\n",
    "b_50 = Recall(50)\n",
    "b_100 = Recall(100)"
   ]
  },
  {
   "cell_type": "code",
   "execution_count": 31,
   "id": "0113889d-016b-4dc7-addf-531a35211dcd",
   "metadata": {},
   "outputs": [
    {
     "name": "stdout",
     "output_type": "stream",
     "text": [
      "0.10946235885535804\n",
      "0.21572556993819617\n",
      "0.3313590027822164\n",
      "0.47821356330541887\n"
     ]
    }
   ],
   "source": [
    "print(np.array(b_10).mean())\n",
    "print(np.array(b_25).mean())\n",
    "print(np.array(b_50).mean())\n",
    "print(np.array(b_100).mean())"
   ]
  },
  {
   "cell_type": "code",
   "execution_count": 30,
   "id": "c6a11f2a-a6fa-46eb-877e-b4a438941569",
   "metadata": {},
   "outputs": [
    {
     "name": "stderr",
     "output_type": "stream",
     "text": [
      "Calculating ROC:   0%|                                                                        | 0/2480 [00:00<?, ?it/s]\n"
     ]
    },
    {
     "ename": "TypeError",
     "evalue": "not a sequence",
     "output_type": "error",
     "traceback": [
      "\u001b[1;31m---------------------------------------------------------------------------\u001b[0m",
      "\u001b[1;31mTypeError\u001b[0m                                 Traceback (most recent call last)",
      "Cell \u001b[1;32mIn[30], line 36\u001b[0m\n\u001b[0;32m     33\u001b[0m     plt\u001b[38;5;241m.\u001b[39mshow()\n\u001b[0;32m     35\u001b[0m \u001b[38;5;66;03m# 사용 예시\u001b[39;00m\n\u001b[1;32m---> 36\u001b[0m \u001b[43mcalculate_roc_curve\u001b[49m\u001b[43m(\u001b[49m\u001b[43mnet\u001b[49m\u001b[43m,\u001b[49m\u001b[43m \u001b[49m\u001b[43mkeys_list\u001b[49m\u001b[43m,\u001b[49m\u001b[43m \u001b[49m\u001b[43mresult_dict\u001b[49m\u001b[43m,\u001b[49m\u001b[43m \u001b[49m\u001b[43mtrain_dict\u001b[49m\u001b[43m,\u001b[49m\u001b[43m \u001b[49m\u001b[43mnum_grup\u001b[49m\u001b[43m,\u001b[49m\u001b[43m \u001b[49m\u001b[43mdevice\u001b[49m\u001b[43m)\u001b[49m\n",
      "Cell \u001b[1;32mIn[30], line 15\u001b[0m, in \u001b[0;36mcalculate_roc_curve\u001b[1;34m(net, keys_list, result_dict, train_dict, num_grup, device)\u001b[0m\n\u001b[0;32m     12\u001b[0m \u001b[38;5;28;01mexcept\u001b[39;00m \u001b[38;5;167;01mKeyError\u001b[39;00m:\n\u001b[0;32m     13\u001b[0m     \u001b[38;5;28;01mcontinue\u001b[39;00m\n\u001b[1;32m---> 15\u001b[0m p \u001b[38;5;241m=\u001b[39m \u001b[43mtorch\u001b[49m\u001b[38;5;241;43m.\u001b[39;49m\u001b[43mtensor\u001b[49m\u001b[43m(\u001b[49m\u001b[43m[\u001b[49m\u001b[43m[\u001b[49m\u001b[43mi\u001b[49m\u001b[43m,\u001b[49m\u001b[43m \u001b[49m\u001b[43mj\u001b[49m\u001b[43m]\u001b[49m\u001b[43m \u001b[49m\u001b[38;5;28;43;01mfor\u001b[39;49;00m\u001b[43m \u001b[49m\u001b[43mj\u001b[49m\u001b[43m \u001b[49m\u001b[38;5;129;43;01min\u001b[39;49;00m\u001b[43m \u001b[49m\u001b[38;5;28;43mrange\u001b[39;49m\u001b[43m(\u001b[49m\u001b[43mnum_grup\u001b[49m\u001b[43m)\u001b[49m\u001b[43m]\u001b[49m\u001b[43m)\u001b[49m\u001b[38;5;241m.\u001b[39mto(device)\n\u001b[0;32m     16\u001b[0m pred \u001b[38;5;241m=\u001b[39m net(p)\u001b[38;5;241m.\u001b[39msqueeze()\u001b[38;5;241m.\u001b[39mcpu()\u001b[38;5;241m.\u001b[39mdetach()\u001b[38;5;241m.\u001b[39mnumpy()\n\u001b[0;32m     17\u001b[0m y_scores\u001b[38;5;241m.\u001b[39mextend(pred)\n",
      "\u001b[1;31mTypeError\u001b[0m: not a sequence"
     ]
    }
   ],
   "source": [
    "from sklearn.metrics import roc_curve, auc\n",
    "import matplotlib.pyplot as plt\n",
    "\n",
    "def calculate_roc_curve(net, keys_list, result_dict, train_dict, num_grup, device):\n",
    "    y_true = []\n",
    "    y_scores = []\n",
    "\n",
    "    for i in tqdm(keys_list, desc=\"Calculating ROC\", position=0, leave=True):\n",
    "        try:\n",
    "            b = result_dict[i]\n",
    "            c = train_dict[i]\n",
    "        except KeyError:\n",
    "            continue\n",
    "\n",
    "        p = torch.tensor([[i, j] for j in range(num_grup)]).to(device)\n",
    "        pred = net(p).squeeze().cpu().detach().numpy()\n",
    "        y_scores.extend(pred)\n",
    "\n",
    "        labels = [1 if idx in set(b) else 0 for idx in range(num_grup)]\n",
    "        y_true.extend(labels)\n",
    "\n",
    "    fpr, tpr, thresholds = roc_curve(y_true, y_scores)\n",
    "    roc_auc = auc(fpr, tpr)\n",
    "\n",
    "    # Plot ROC curve\n",
    "    plt.figure(figsize=(8, 8))\n",
    "    plt.plot(fpr, tpr, color='darkorange', lw=2, label='ROC curve (AUC = {:.2f})'.format(roc_auc))\n",
    "    plt.plot([0, 1], [0, 1], color='navy', lw=2, linestyle='--', label='Random Guess')\n",
    "    plt.xlabel('False Positive Rate')\n",
    "    plt.ylabel('True Positive Rate')\n",
    "    plt.title('Receiver Operating Characteristic (ROC) Curve')\n",
    "    plt.legend(loc='lower right')\n",
    "    plt.show()\n",
    "\n",
    "# 사용 예시\n",
    "calculate_roc_curve(net, keys_list, result_dict, train_dict, num_grup, device)\n"
   ]
  },
  {
   "cell_type": "code",
   "execution_count": null,
   "id": "779e372c-a977-4e19-a3a2-8fbf40be6317",
   "metadata": {},
   "outputs": [],
   "source": []
  }
 ],
 "metadata": {
  "kernelspec": {
   "display_name": "gnn_3.9",
   "language": "python",
   "name": "gnn_3.9"
  },
  "language_info": {
   "codemirror_mode": {
    "name": "ipython",
    "version": 3
   },
   "file_extension": ".py",
   "mimetype": "text/x-python",
   "name": "python",
   "nbconvert_exporter": "python",
   "pygments_lexer": "ipython3",
   "version": "3.9.18"
  }
 },
 "nbformat": 4,
 "nbformat_minor": 5
}
