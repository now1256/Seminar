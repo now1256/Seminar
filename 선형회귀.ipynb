{
  "nbformat": 4,
  "nbformat_minor": 0,
  "metadata": {
    "colab": {
      "provenance": [],
      "authorship_tag": "ABX9TyNQkQ6MlAmHdf5K3gcUqHOd",
      "include_colab_link": true
    },
    "kernelspec": {
      "name": "python3",
      "display_name": "Python 3"
    },
    "language_info": {
      "name": "python"
    }
  },
  "cells": [
    {
      "cell_type": "markdown",
      "metadata": {
        "id": "view-in-github",
        "colab_type": "text"
      },
      "source": [
        "<a href=\"https://colab.research.google.com/github/now1256/Seminar/blob/main/%EC%84%A0%ED%98%95%ED%9A%8C%EA%B7%80.ipynb\" target=\"_parent\"><img src=\"https://colab.research.google.com/assets/colab-badge.svg\" alt=\"Open In Colab\"/></a>"
      ]
    },
    {
      "cell_type": "code",
      "execution_count": null,
      "metadata": {
        "id": "vhkVkWrIv8ip"
      },
      "outputs": [],
      "source": [
        "import torch\n",
        "import torch.nn as nn\n",
        "import torch.nn.functional as F"
      ]
    },
    {
      "cell_type": "code",
      "source": [
        "x_study = torch.FloatTensor([[2],[4],[6],[8]])\n",
        "y_study = torch.FloatTensor([[15],[25],[35],[45]])\n",
        "print(x_study.shape)\n",
        "print(x_study)"
      ],
      "metadata": {
        "colab": {
          "base_uri": "https://localhost:8080/"
        },
        "id": "utt_EdnPyUkp",
        "outputId": "cdf751df-1d30-4759-91e4-2fcf6816c4f4"
      },
      "execution_count": null,
      "outputs": [
        {
          "output_type": "stream",
          "name": "stdout",
          "text": [
            "torch.Size([4, 1])\n",
            "tensor([[2.],\n",
            "        [4.],\n",
            "        [6.],\n",
            "        [8.]])\n"
          ]
        }
      ]
    },
    {
      "cell_type": "code",
      "source": [
        "model = nn.Linear(1,1)\n",
        "H_x = model(x_study)\n",
        "print(H_x)"
      ],
      "metadata": {
        "colab": {
          "base_uri": "https://localhost:8080/"
        },
        "id": "MYPms7ZTydS-",
        "outputId": "57a84f45-0644-4529-e8d6-05787955084a"
      },
      "execution_count": null,
      "outputs": [
        {
          "output_type": "stream",
          "name": "stdout",
          "text": [
            "tensor([[-0.0383],\n",
            "        [-0.0897],\n",
            "        [-0.1412],\n",
            "        [-0.1927]], grad_fn=<AddmmBackward0>)\n"
          ]
        }
      ]
    },
    {
      "cell_type": "code",
      "source": [
        "optimizer = torch.optim.SGD(model.parameters(), lr=0.01)"
      ],
      "metadata": {
        "id": "NXIQB3022HH7"
      },
      "execution_count": null,
      "outputs": []
    },
    {
      "cell_type": "code",
      "source": [
        "nb_epochs = 2000\n",
        "for epoch in range(nb_epochs+1):\n",
        "\n",
        "    H_x = model(x_study)\n",
        "    # 비용함수 정의\n",
        "    cost = F.mse_loss(H_x, y_study)\n",
        "\n",
        "    #cost로 H(x)로 개선\n",
        "    optimizer.zero_grad()\n",
        "    cost.backward() # cost의 미분값 연산\n",
        "    # 경사하강법으로 업데이트\n",
        "    optimizer.step()\n",
        "    if epoch % 100 == 0:\n",
        "        print('Epoch{:4d}/{}:Cost: {:.6f}'.format(\n",
        "            epoch,nb_epochs,cost.item()\n",
        "        ))"
      ],
      "metadata": {
        "colab": {
          "base_uri": "https://localhost:8080/"
        },
        "id": "CF9-4FZyy-vR",
        "outputId": "e0f2bf1f-c6f4-414b-9c3f-d8446dd7f27d"
      },
      "execution_count": null,
      "outputs": [
        {
          "output_type": "stream",
          "name": "stdout",
          "text": [
            "Epoch   0/2000:Cost: 1033.233154\n",
            "Epoch 100/2000:Cost: 1.414821\n",
            "Epoch 200/2000:Cost: 0.738892\n",
            "Epoch 300/2000:Cost: 0.385887\n",
            "Epoch 400/2000:Cost: 0.201530\n",
            "Epoch 500/2000:Cost: 0.105249\n",
            "Epoch 600/2000:Cost: 0.054966\n",
            "Epoch 700/2000:Cost: 0.028706\n",
            "Epoch 800/2000:Cost: 0.014992\n",
            "Epoch 900/2000:Cost: 0.007830\n",
            "Epoch1000/2000:Cost: 0.004089\n",
            "Epoch1100/2000:Cost: 0.002136\n",
            "Epoch1200/2000:Cost: 0.001115\n",
            "Epoch1300/2000:Cost: 0.000583\n",
            "Epoch1400/2000:Cost: 0.000304\n",
            "Epoch1500/2000:Cost: 0.000159\n",
            "Epoch1600/2000:Cost: 0.000083\n",
            "Epoch1700/2000:Cost: 0.000043\n",
            "Epoch1800/2000:Cost: 0.000023\n",
            "Epoch1900/2000:Cost: 0.000012\n",
            "Epoch2000/2000:Cost: 0.000006\n"
          ]
        }
      ]
    },
    {
      "cell_type": "code",
      "source": [
        "# 임의의 입력 4를 선언\n",
        "new_var =  torch.FloatTensor([[4.0]])\n",
        "# 입력한 값 4에 대해서 예측값 y를 리턴받아서 pred_y에 저장\n",
        "pred_y = model(new_var) # forward 연산\n",
        "#  6이이라면 y가 24에 가까운 값이 나와야 제대로 학습이 된 것\n",
        "print(\"훈련 후 입력이 4일 때의 예측값 :\", pred_y)"
      ],
      "metadata": {
        "colab": {
          "base_uri": "https://localhost:8080/"
        },
        "id": "WC_Y2VV_2zoC",
        "outputId": "73d3f1bd-83d9-4eb4-f9f4-8010f0579364"
      },
      "execution_count": null,
      "outputs": [
        {
          "output_type": "stream",
          "name": "stdout",
          "text": [
            "훈련 후 입력이 4일 때의 예측값 : tensor([[24.9980]], grad_fn=<AddmmBackward0>)\n"
          ]
        }
      ]
    }
  ]
}