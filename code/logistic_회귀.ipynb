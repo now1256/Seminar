{
  "nbformat": 4,
  "nbformat_minor": 0,
  "metadata": {
    "colab": {
      "provenance": [],
      "authorship_tag": "ABX9TyORCi4JMcGWCSuaUwqnZVDM",
      "include_colab_link": true
    },
    "kernelspec": {
      "name": "python3",
      "display_name": "Python 3"
    },
    "language_info": {
      "name": "python"
    }
  },
  "cells": [
    {
      "cell_type": "markdown",
      "metadata": {
        "id": "view-in-github",
        "colab_type": "text"
      },
      "source": [
        "<a href=\"https://colab.research.google.com/github/now1256/Seminar/blob/main/logistic_%ED%9A%8C%EA%B7%80.ipynb\" target=\"_parent\"><img src=\"https://colab.research.google.com/assets/colab-badge.svg\" alt=\"Open In Colab\"/></a>"
      ]
    },
    {
      "cell_type": "code",
      "execution_count": null,
      "metadata": {
        "id": "KyqTBFzJj-0w"
      },
      "outputs": [],
      "source": [
        "import torch\n",
        "import torch.nn as nn\n",
        "import torch.nn.functional as F\n",
        "import torch.optim as optim"
      ]
    },
    {
      "cell_type": "code",
      "source": [
        "torch.manual_seed(1)"
      ],
      "metadata": {
        "colab": {
          "base_uri": "https://localhost:8080/"
        },
        "id": "22j1ACAvj_8M",
        "outputId": "052f4629-f12d-4814-982e-86be0fd682b1"
      },
      "execution_count": null,
      "outputs": [
        {
          "output_type": "execute_result",
          "data": {
            "text/plain": [
              "<torch._C.Generator at 0x7f510e7f12f0>"
            ]
          },
          "metadata": {},
          "execution_count": 2
        }
      ]
    },
    {
      "cell_type": "code",
      "source": [
        "x_data = [[1,2],[2,3],[3,1],[4,3],[5,3],[6,2]]\n",
        "y_data = [[0],[0],[0],[1],[1],[1]]"
      ],
      "metadata": {
        "id": "V6ufIor5kB7P"
      },
      "execution_count": null,
      "outputs": []
    },
    {
      "cell_type": "code",
      "source": [
        "x_train = torch.FloatTensor(x_data)\n",
        "y_train = torch.FloatTensor(y_data)"
      ],
      "metadata": {
        "id": "NYSoEdOBkPv1"
      },
      "execution_count": null,
      "outputs": []
    },
    {
      "cell_type": "code",
      "source": [
        "print(x_train.shape)\n",
        "print(y_train.shape)"
      ],
      "metadata": {
        "colab": {
          "base_uri": "https://localhost:8080/"
        },
        "id": "E1CvFjrNksyv",
        "outputId": "87f20720-261b-4e64-85b3-9a25fb19e112"
      },
      "execution_count": null,
      "outputs": [
        {
          "output_type": "stream",
          "name": "stdout",
          "text": [
            "torch.Size([6, 2])\n",
            "torch.Size([6, 1])\n"
          ]
        }
      ]
    },
    {
      "cell_type": "code",
      "source": [
        "# y에 맞춰서 나오는 가중치값 2x1\n",
        "W = torch.zeros((2,1), requires_grad = True)\n",
        "b = torch.zeros(1, requires_grad = True)"
      ],
      "metadata": {
        "id": "XULVSK16k5Gn"
      },
      "execution_count": null,
      "outputs": []
    },
    {
      "cell_type": "code",
      "source": [
        "hypothesis = 1 / (1 + torch.exp(-(x_train.matmul(W) + b)))"
      ],
      "metadata": {
        "id": "ya-a4YD4l1Rp"
      },
      "execution_count": null,
      "outputs": []
    },
    {
      "cell_type": "code",
      "source": [
        "print(hypothesis)"
      ],
      "metadata": {
        "colab": {
          "base_uri": "https://localhost:8080/"
        },
        "id": "keOfyQZ-l1vG",
        "outputId": "1e4bc413-1a09-4659-a9d0-e546704042c6"
      },
      "execution_count": null,
      "outputs": [
        {
          "output_type": "stream",
          "name": "stdout",
          "text": [
            "tensor([[0.5000],\n",
            "        [0.5000],\n",
            "        [0.5000],\n",
            "        [0.5000],\n",
            "        [0.5000],\n",
            "        [0.5000]], grad_fn=<MulBackward0>)\n"
          ]
        }
      ]
    },
    {
      "cell_type": "code",
      "source": [
        "losses = -(y_train * torch.log(hypothesis) +\n",
        "           (1 - y_train) * torch.log(1 - hypothesis))\n",
        "print(losses)"
      ],
      "metadata": {
        "colab": {
          "base_uri": "https://localhost:8080/"
        },
        "id": "QtQAsmnhmC3r",
        "outputId": "54e1c2cb-48b3-448f-d81a-053e125f14a6"
      },
      "execution_count": null,
      "outputs": [
        {
          "output_type": "stream",
          "name": "stdout",
          "text": [
            "tensor([[0.6931],\n",
            "        [0.6931],\n",
            "        [0.6931],\n",
            "        [0.6931],\n",
            "        [0.6931],\n",
            "        [0.6931]], grad_fn=<NegBackward0>)\n"
          ]
        }
      ]
    },
    {
      "cell_type": "code",
      "source": [
        "# 전체 오차에 대한 평균\n",
        "cost = losses.mean()\n",
        "print(cost)"
      ],
      "metadata": {
        "colab": {
          "base_uri": "https://localhost:8080/"
        },
        "id": "UfXzo0n4nDC_",
        "outputId": "07373609-6a5d-4695-ccb3-37f9ce762c99"
      },
      "execution_count": null,
      "outputs": [
        {
          "output_type": "stream",
          "name": "stdout",
          "text": [
            "tensor(0.6931, grad_fn=<MeanBackward0>)\n"
          ]
        }
      ]
    },
    {
      "cell_type": "code",
      "source": [
        "# cost를 찾는 함수 위에 코드와 같다\n",
        "F.binary_cross_entropy(hypothesis, y_train)"
      ],
      "metadata": {
        "colab": {
          "base_uri": "https://localhost:8080/"
        },
        "id": "Wv5RnmhvnW2i",
        "outputId": "1cdca360-2805-4789-d61d-6371564f4385"
      },
      "execution_count": null,
      "outputs": [
        {
          "output_type": "execute_result",
          "data": {
            "text/plain": [
              "tensor(0.6931, grad_fn=<BinaryCrossEntropyBackward0>)"
            ]
          },
          "metadata": {},
          "execution_count": 11
        }
      ]
    },
    {
      "cell_type": "markdown",
      "source": [
        "학습을 추가한 코드"
      ],
      "metadata": {
        "id": "e6aRhjovny8y"
      }
    },
    {
      "cell_type": "code",
      "source": [
        "x_data = [[1, 2], [2, 3], [3, 1], [4, 3], [5, 3], [6, 2]]\n",
        "y_data = [[0], [0], [0], [1], [1], [1]]\n",
        "x_train = torch.FloatTensor(x_data)\n",
        "y_train = torch.FloatTensor(y_data)"
      ],
      "metadata": {
        "id": "IzFoz6j_n34W"
      },
      "execution_count": null,
      "outputs": []
    },
    {
      "cell_type": "code",
      "source": [
        "# 모델 초기화\n",
        "W = torch.zeros((2, 1), requires_grad=True)\n",
        "b = torch.zeros(1, requires_grad=True)\n",
        "# optimizer 설정\n",
        "optimizer = optim.SGD([W, b], lr=1)"
      ],
      "metadata": {
        "id": "aJ1tEaesn6Bd"
      },
      "execution_count": null,
      "outputs": []
    },
    {
      "cell_type": "code",
      "source": [
        "nb_epochs = 1000\n",
        "for epoch in range(nb_epochs + 1):\n",
        "    # Cost 계산\n",
        "    hypothesis = torch.sigmoid(x_train.matmul(W) + b)\n",
        "    cost = F.binary_cross_entropy(hypothesis, y_train)\n",
        "\n",
        "    # cost로 H(x) 개선\n",
        "    optimizer.zero_grad()\n",
        "    cost.backward()\n",
        "    optimizer.step()\n",
        "\n",
        "    # 100번마다 로그 출력\n",
        "    if epoch % 100 == 0:\n",
        "        print('Epoch {:4d}/{} Cost: {:.6f}'.format(\n",
        "            epoch, nb_epochs, cost.item()\n",
        "        ))"
      ],
      "metadata": {
        "colab": {
          "base_uri": "https://localhost:8080/"
        },
        "id": "7imBkr1ZoXCe",
        "outputId": "27fc51c5-62fb-4b8e-e2f1-0257d98cd2af"
      },
      "execution_count": null,
      "outputs": [
        {
          "output_type": "stream",
          "name": "stdout",
          "text": [
            "Epoch    0/1000 Cost: 0.693147\n",
            "Epoch  100/1000 Cost: 0.134722\n",
            "Epoch  200/1000 Cost: 0.080643\n",
            "Epoch  300/1000 Cost: 0.057900\n",
            "Epoch  400/1000 Cost: 0.045300\n",
            "Epoch  500/1000 Cost: 0.037261\n",
            "Epoch  600/1000 Cost: 0.031672\n",
            "Epoch  700/1000 Cost: 0.027556\n",
            "Epoch  800/1000 Cost: 0.024394\n",
            "Epoch  900/1000 Cost: 0.021888\n",
            "Epoch 1000/1000 Cost: 0.019852\n"
          ]
        }
      ]
    },
    {
      "cell_type": "code",
      "source": [
        " # 학습이 되었음\n",
        "print(hypothesis)"
      ],
      "metadata": {
        "colab": {
          "base_uri": "https://localhost:8080/"
        },
        "id": "efScOl8Ro4XS",
        "outputId": "a03bd4cb-e397-49a1-a6d5-a04467065b7b"
      },
      "execution_count": null,
      "outputs": [
        {
          "output_type": "stream",
          "name": "stdout",
          "text": [
            "tensor([[2.7711e-04],\n",
            "        [3.1636e-02],\n",
            "        [3.9014e-02],\n",
            "        [9.5618e-01],\n",
            "        [9.9823e-01],\n",
            "        [9.9969e-01]], grad_fn=<SigmoidBackward0>)\n"
          ]
        }
      ]
    },
    {
      "cell_type": "code",
      "source": [
        "prediction = hypothesis >= torch.FloatTensor([0.5])\n",
        "print(prediction)"
      ],
      "metadata": {
        "colab": {
          "base_uri": "https://localhost:8080/"
        },
        "id": "0jRGCGhJpEU7",
        "outputId": "dada7fd7-0fe3-470f-88ab-6edc1fef27a4"
      },
      "execution_count": null,
      "outputs": [
        {
          "output_type": "stream",
          "name": "stdout",
          "text": [
            "tensor([[False],\n",
            "        [False],\n",
            "        [False],\n",
            "        [ True],\n",
            "        [ True],\n",
            "        [ True]])\n"
          ]
        }
      ]
    },
    {
      "cell_type": "markdown",
      "source": [
        "로지스틱 회귀 클래스로 구현"
      ],
      "metadata": {
        "id": "NwqjR56xtkUZ"
      }
    },
    {
      "cell_type": "code",
      "source": [
        "import torch\n",
        "import torch.nn as nn\n",
        "import torch.nn.functional as F\n",
        "import torch.optim as optim"
      ],
      "metadata": {
        "id": "ABKALgHptmmz"
      },
      "execution_count": null,
      "outputs": []
    },
    {
      "cell_type": "code",
      "source": [
        "torch.manual_seed(1)"
      ],
      "metadata": {
        "colab": {
          "base_uri": "https://localhost:8080/"
        },
        "id": "4tMoDhn0tqzQ",
        "outputId": "a79b50b2-46e9-452e-ad4e-f94e8b365c9f"
      },
      "execution_count": null,
      "outputs": [
        {
          "output_type": "execute_result",
          "data": {
            "text/plain": [
              "<torch._C.Generator at 0x7f510e7f12f0>"
            ]
          },
          "metadata": {},
          "execution_count": 18
        }
      ]
    },
    {
      "cell_type": "code",
      "source": [
        " # Linear에 input 넣었을때\n",
        "x_data = [[1, 2, 5], [2, 3, 7], [3, 1, 4], [4, 3, 6], [5, 3, 5], [6, 2, 5]]\n",
        "y_data = [[0], [0], [0], [1], [1], [1]]\n",
        "x_train = torch.FloatTensor(x_data)\n",
        "y_train = torch.FloatTensor(y_data)\n",
        "print(x_train.shape)\n"
      ],
      "metadata": {
        "colab": {
          "base_uri": "https://localhost:8080/"
        },
        "id": "NTDF-uiutr2e",
        "outputId": "b38e2047-1367-420d-8351-dff8858c59a7"
      },
      "execution_count": null,
      "outputs": [
        {
          "output_type": "stream",
          "name": "stdout",
          "text": [
            "torch.Size([6, 3])\n"
          ]
        }
      ]
    },
    {
      "cell_type": "code",
      "source": [
        "class BinaryClassifier(nn.Module):\n",
        "    def __init__(self):\n",
        "        super().__init__()\n",
        "        self.linear = nn.Linear(3, 1)\n",
        "        self.sigmoid = nn.Sigmoid()\n",
        "\n",
        "    def forward(self, x):\n",
        "        return self.sigmoid(self.linear(x))"
      ],
      "metadata": {
        "id": "t7Wpt--Xt10e"
      },
      "execution_count": null,
      "outputs": []
    },
    {
      "cell_type": "code",
      "source": [
        "model = BinaryClassifier()"
      ],
      "metadata": {
        "id": "KKF43FVDt8ss"
      },
      "execution_count": null,
      "outputs": []
    },
    {
      "cell_type": "code",
      "source": [
        "# optimizer 설정\n",
        "optimizer = optim.SGD(model.parameters(), lr=1)\n",
        "\n",
        "nb_epochs = 1000\n",
        "for epoch in range(nb_epochs + 1):\n",
        "\n",
        "    # H(x) 계산\n",
        "    hypothesis = model(x_train)\n",
        "\n",
        "    # cost 계산\n",
        "    cost = F.binary_cross_entropy(hypothesis, y_train)\n",
        "\n",
        "    # cost로 H(x) 개선\n",
        "    optimizer.zero_grad()\n",
        "    cost.backward()\n",
        "    optimizer.step()\n",
        "\n",
        "    # 20번마다 로그 출력\n",
        "    if epoch % 10 == 0:\n",
        "     # prediction = [false, true , false , true , true , true]\n",
        "      prediction = hypothesis >= torch.FloatTensor([0.5])\n",
        "     # prediction.float() = [0,1,0,1,1,1] y_train = [0,0,0,1,1,1]\n",
        "      correct_prediction = prediction.float() == y_train\n",
        "     # correct_prediction = [true , false , true, true, true, true]\n",
        "      accuracy = correct_prediction.sum().item() / len(correct_prediction)\n",
        "      print('Epoch {:4d}/{} Cost: {:.6f} Accuracy {:2.2f}%'.format( # 각 에포크마다 정확도를 출력\n",
        "            epoch, nb_epochs, cost.item(), accuracy * 100,\n",
        "        ))"
      ],
      "metadata": {
        "colab": {
          "base_uri": "https://localhost:8080/"
        },
        "id": "6s26hNjwt9pR",
        "outputId": "bf06529c-1fe0-438c-adc2-ff3f704a4ccd"
      },
      "execution_count": null,
      "outputs": [
        {
          "output_type": "stream",
          "name": "stdout",
          "text": [
            "Epoch    0/1000 Cost: 0.554989 Accuracy 83.33%\n",
            "Epoch   10/1000 Cost: 0.320308 Accuracy 66.67%\n",
            "Epoch   20/1000 Cost: 0.269405 Accuracy 83.33%\n",
            "Epoch   30/1000 Cost: 0.227233 Accuracy 83.33%\n",
            "Epoch   40/1000 Cost: 0.153119 Accuracy 83.33%\n",
            "Epoch   50/1000 Cost: 0.053578 Accuracy 100.00%\n",
            "Epoch   60/1000 Cost: 0.043549 Accuracy 100.00%\n",
            "Epoch   70/1000 Cost: 0.038017 Accuracy 100.00%\n",
            "Epoch   80/1000 Cost: 0.033866 Accuracy 100.00%\n",
            "Epoch   90/1000 Cost: 0.030652 Accuracy 100.00%\n",
            "Epoch  100/1000 Cost: 0.028092 Accuracy 100.00%\n",
            "Epoch  110/1000 Cost: 0.026001 Accuracy 100.00%\n",
            "Epoch  120/1000 Cost: 0.024255 Accuracy 100.00%\n",
            "Epoch  130/1000 Cost: 0.022769 Accuracy 100.00%\n",
            "Epoch  140/1000 Cost: 0.021482 Accuracy 100.00%\n",
            "Epoch  150/1000 Cost: 0.020353 Accuracy 100.00%\n",
            "Epoch  160/1000 Cost: 0.019351 Accuracy 100.00%\n",
            "Epoch  170/1000 Cost: 0.018452 Accuracy 100.00%\n",
            "Epoch  180/1000 Cost: 0.017639 Accuracy 100.00%\n",
            "Epoch  190/1000 Cost: 0.016900 Accuracy 100.00%\n",
            "Epoch  200/1000 Cost: 0.016223 Accuracy 100.00%\n",
            "Epoch  210/1000 Cost: 0.015601 Accuracy 100.00%\n",
            "Epoch  220/1000 Cost: 0.015026 Accuracy 100.00%\n",
            "Epoch  230/1000 Cost: 0.014493 Accuracy 100.00%\n",
            "Epoch  240/1000 Cost: 0.013997 Accuracy 100.00%\n",
            "Epoch  250/1000 Cost: 0.013534 Accuracy 100.00%\n",
            "Epoch  260/1000 Cost: 0.013102 Accuracy 100.00%\n",
            "Epoch  270/1000 Cost: 0.012696 Accuracy 100.00%\n",
            "Epoch  280/1000 Cost: 0.012315 Accuracy 100.00%\n",
            "Epoch  290/1000 Cost: 0.011956 Accuracy 100.00%\n",
            "Epoch  300/1000 Cost: 0.011618 Accuracy 100.00%\n",
            "Epoch  310/1000 Cost: 0.011298 Accuracy 100.00%\n",
            "Epoch  320/1000 Cost: 0.010996 Accuracy 100.00%\n",
            "Epoch  330/1000 Cost: 0.010709 Accuracy 100.00%\n",
            "Epoch  340/1000 Cost: 0.010437 Accuracy 100.00%\n",
            "Epoch  350/1000 Cost: 0.010178 Accuracy 100.00%\n",
            "Epoch  360/1000 Cost: 0.009932 Accuracy 100.00%\n",
            "Epoch  370/1000 Cost: 0.009697 Accuracy 100.00%\n",
            "Epoch  380/1000 Cost: 0.009474 Accuracy 100.00%\n",
            "Epoch  390/1000 Cost: 0.009260 Accuracy 100.00%\n",
            "Epoch  400/1000 Cost: 0.009056 Accuracy 100.00%\n",
            "Epoch  410/1000 Cost: 0.008860 Accuracy 100.00%\n",
            "Epoch  420/1000 Cost: 0.008673 Accuracy 100.00%\n",
            "Epoch  430/1000 Cost: 0.008494 Accuracy 100.00%\n",
            "Epoch  440/1000 Cost: 0.008321 Accuracy 100.00%\n",
            "Epoch  450/1000 Cost: 0.008156 Accuracy 100.00%\n",
            "Epoch  460/1000 Cost: 0.007997 Accuracy 100.00%\n",
            "Epoch  470/1000 Cost: 0.007844 Accuracy 100.00%\n",
            "Epoch  480/1000 Cost: 0.007697 Accuracy 100.00%\n",
            "Epoch  490/1000 Cost: 0.007555 Accuracy 100.00%\n",
            "Epoch  500/1000 Cost: 0.007419 Accuracy 100.00%\n",
            "Epoch  510/1000 Cost: 0.007287 Accuracy 100.00%\n",
            "Epoch  520/1000 Cost: 0.007160 Accuracy 100.00%\n",
            "Epoch  530/1000 Cost: 0.007037 Accuracy 100.00%\n",
            "Epoch  540/1000 Cost: 0.006918 Accuracy 100.00%\n",
            "Epoch  550/1000 Cost: 0.006804 Accuracy 100.00%\n",
            "Epoch  560/1000 Cost: 0.006693 Accuracy 100.00%\n",
            "Epoch  570/1000 Cost: 0.006585 Accuracy 100.00%\n",
            "Epoch  580/1000 Cost: 0.006481 Accuracy 100.00%\n",
            "Epoch  590/1000 Cost: 0.006380 Accuracy 100.00%\n",
            "Epoch  600/1000 Cost: 0.006283 Accuracy 100.00%\n",
            "Epoch  610/1000 Cost: 0.006188 Accuracy 100.00%\n",
            "Epoch  620/1000 Cost: 0.006096 Accuracy 100.00%\n",
            "Epoch  630/1000 Cost: 0.006007 Accuracy 100.00%\n",
            "Epoch  640/1000 Cost: 0.005920 Accuracy 100.00%\n",
            "Epoch  650/1000 Cost: 0.005836 Accuracy 100.00%\n",
            "Epoch  660/1000 Cost: 0.005754 Accuracy 100.00%\n",
            "Epoch  670/1000 Cost: 0.005674 Accuracy 100.00%\n",
            "Epoch  680/1000 Cost: 0.005597 Accuracy 100.00%\n",
            "Epoch  690/1000 Cost: 0.005521 Accuracy 100.00%\n",
            "Epoch  700/1000 Cost: 0.005448 Accuracy 100.00%\n",
            "Epoch  710/1000 Cost: 0.005377 Accuracy 100.00%\n",
            "Epoch  720/1000 Cost: 0.005307 Accuracy 100.00%\n",
            "Epoch  730/1000 Cost: 0.005239 Accuracy 100.00%\n",
            "Epoch  740/1000 Cost: 0.005173 Accuracy 100.00%\n",
            "Epoch  750/1000 Cost: 0.005109 Accuracy 100.00%\n",
            "Epoch  760/1000 Cost: 0.005046 Accuracy 100.00%\n",
            "Epoch  770/1000 Cost: 0.004985 Accuracy 100.00%\n",
            "Epoch  780/1000 Cost: 0.004925 Accuracy 100.00%\n",
            "Epoch  790/1000 Cost: 0.004866 Accuracy 100.00%\n",
            "Epoch  800/1000 Cost: 0.004809 Accuracy 100.00%\n",
            "Epoch  810/1000 Cost: 0.004753 Accuracy 100.00%\n",
            "Epoch  820/1000 Cost: 0.004699 Accuracy 100.00%\n",
            "Epoch  830/1000 Cost: 0.004646 Accuracy 100.00%\n",
            "Epoch  840/1000 Cost: 0.004594 Accuracy 100.00%\n",
            "Epoch  850/1000 Cost: 0.004543 Accuracy 100.00%\n",
            "Epoch  860/1000 Cost: 0.004493 Accuracy 100.00%\n",
            "Epoch  870/1000 Cost: 0.004444 Accuracy 100.00%\n",
            "Epoch  880/1000 Cost: 0.004397 Accuracy 100.00%\n",
            "Epoch  890/1000 Cost: 0.004350 Accuracy 100.00%\n",
            "Epoch  900/1000 Cost: 0.004305 Accuracy 100.00%\n",
            "Epoch  910/1000 Cost: 0.004260 Accuracy 100.00%\n",
            "Epoch  920/1000 Cost: 0.004216 Accuracy 100.00%\n",
            "Epoch  930/1000 Cost: 0.004173 Accuracy 100.00%\n",
            "Epoch  940/1000 Cost: 0.004131 Accuracy 100.00%\n",
            "Epoch  950/1000 Cost: 0.004090 Accuracy 100.00%\n",
            "Epoch  960/1000 Cost: 0.004050 Accuracy 100.00%\n",
            "Epoch  970/1000 Cost: 0.004010 Accuracy 100.00%\n",
            "Epoch  980/1000 Cost: 0.003971 Accuracy 100.00%\n",
            "Epoch  990/1000 Cost: 0.003933 Accuracy 100.00%\n",
            "Epoch 1000/1000 Cost: 0.003896 Accuracy 100.00%\n"
          ]
        }
      ]
    },
    {
      "cell_type": "code",
      "source": [
        "print(hypothesis)"
      ],
      "metadata": {
        "colab": {
          "base_uri": "https://localhost:8080/"
        },
        "id": "dW1C95Uzt_sz",
        "outputId": "8d2d28db-a63e-419a-9a63-4dd3761b549f"
      },
      "execution_count": null,
      "outputs": [
        {
          "output_type": "stream",
          "name": "stdout",
          "text": [
            "tensor([[5.3996e-04],\n",
            "        [2.6572e-03],\n",
            "        [1.0363e-02],\n",
            "        [9.9077e-01],\n",
            "        [1.0000e+00],\n",
            "        [9.9952e-01]], grad_fn=<SigmoidBackward0>)\n"
          ]
        }
      ]
    },
    {
      "cell_type": "code",
      "source": [
        "prediction = hypothesis >= torch.FloatTensor([0.5])\n",
        "for i in range(len(prediction)):\n",
        "    if  prediction[i].item() == False:\n",
        "        score = '불합격'\n",
        "    else :\n",
        "        score = '합격'\n",
        "\n",
        "    print('합격번호 {}번은 {} 입니다'.format(i+1 , score))"
      ],
      "metadata": {
        "colab": {
          "base_uri": "https://localhost:8080/"
        },
        "id": "nzjeJocEy1jO",
        "outputId": "b24718a6-5d8c-4ba2-f1eb-b228c3135724"
      },
      "execution_count": null,
      "outputs": [
        {
          "output_type": "stream",
          "name": "stdout",
          "text": [
            "합격번호 1번은 불합격 입니다\n",
            "합격번호 2번은 불합격 입니다\n",
            "합격번호 3번은 불합격 입니다\n",
            "합격번호 4번은 합격 입니다\n",
            "합격번호 5번은 합격 입니다\n",
            "합격번호 6번은 합격 입니다\n"
          ]
        }
      ]
    },
    {
      "cell_type": "code",
      "source": [],
      "metadata": {
        "id": "ygIsXTMmF1dn"
      },
      "execution_count": null,
      "outputs": []
    }
  ]
}
